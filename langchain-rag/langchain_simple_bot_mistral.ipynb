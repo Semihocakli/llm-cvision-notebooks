{
  "nbformat": 4,
  "nbformat_minor": 0,
  "metadata": {
    "colab": {
      "provenance": []
    },
    "kernelspec": {
      "name": "python3",
      "display_name": "Python 3"
    },
    "language_info": {
      "name": "python"
    }
  },
  "cells": [
    {
      "cell_type": "code",
      "source": [
        "!pip install pandas python-dotenv langchain langchain-huggingface langchain-community faiss-cpu"
      ],
      "metadata": {
        "id": "AzWVPKXsf0MR"
      },
      "execution_count": null,
      "outputs": []
    },
    {
      "cell_type": "code",
      "source": [
        "!apt-get install libfaiss-dev"
      ],
      "metadata": {
        "id": "XcW0JX_Ff9Ug"
      },
      "execution_count": null,
      "outputs": []
    },
    {
      "cell_type": "code",
      "source": [
        "ASSISTANT_INSTRUCTIONS = \"\"\"\n",
        "1. When you receive a question, first look at the provided dataset (CSV file).\n",
        "2. If you find the exact answer to the question in the dataset, provide that answer directly.\n",
        "3. If the asked question contains similar words to a question in the dataset, find the closest match and provide its answer.\n",
        "4. If the asked question is not in the dataset, use your creativity to generate the most relevant answer.\n",
        "5. Do not provide extra explanations or examples, just answer the question directly.\n",
        "6. Do not add follow-up questions or phrases like \"Do you have any other questions?\" at the end of your answer.\n",
        "7. Keep the answer short and concise, avoid unnecessary details.\n",
        "8. Always respond in the first person singular (e.g., \"You can access the regulations from the department's official web page.\").\n",
        "9. Regardless of the language of the input question, always provide the answer in Turkish.\n",
        "10. Ensure that your Turkish responses are grammatically correct and use proper Turkish vocabulary and expressions.\n",
        "\"\"\""
      ],
      "metadata": {
        "id": "cF8ZDbaif_bp"
      },
      "execution_count": null,
      "outputs": []
    },
    {
      "cell_type": "code",
      "execution_count": null,
      "metadata": {
        "id": "UgGkzkl5faoO"
      },
      "outputs": [],
      "source": [
        "import pandas as pd\n",
        "from dotenv import load_dotenv\n",
        "from langchain_huggingface import HuggingFaceEmbeddings\n",
        "from langchain_huggingface import HuggingFaceEndpoint\n",
        "from langchain_community.vectorstores import FAISS\n",
        "from langchain_core.documents import Document\n",
        "from langchain_community.retrievers import BM25Retriever\n",
        "from langchain import hub\n",
        "from langchain_core.prompts import PromptTemplate\n",
        "from langchain.schema import StrOutputParser\n",
        "from langchain.schema.runnable import RunnablePassthrough\n",
        "import os\n",
        "from assistant_instructions import ASSISTANT_INSTRUCTIONS\n",
        "\n",
        "# Çevresel değişkenleri yükle\n",
        "load_dotenv()\n",
        "api_token = os.getenv('HUGGINGFACE_API_KEY')\n",
        "\n",
        "# Adım 1: CSV dosyasını yükleme\n",
        "df = pd.read_csv('veriler.csv')\n",
        "\n",
        "# Adım 2: 'instruction' ve 'response' sütunlarını listeye dönüştürme\n",
        "instructions = df['instruction'].tolist()\n",
        "responses = df['response'].tolist()\n",
        "\n",
        "# Adım 3: Veriyi Document formatına dönüştürme\n",
        "documents = [Document(page_content=instruction, metadata={'response': response}) for instruction, response in zip(instructions, responses)]\n",
        "\n",
        "# Adım 4: Embeddings (Metin Gömme) ve FAISS Vektör Deposu Oluşturma\n",
        "model_name = \"sentence-transformers/all-mpnet-base-v2\"\n",
        "model_kwargs = {'device': 'cpu'}\n",
        "encode_kwargs = {'normalize_embeddings': False}\n",
        "embeddings = HuggingFaceEmbeddings(\n",
        "    model_name=model_name,\n",
        "    model_kwargs=model_kwargs,\n",
        "    encode_kwargs=encode_kwargs\n",
        ")\n",
        "\n",
        "# FAISS vektör deposunu oluşturuyoruz\n",
        "vector_store = FAISS.from_documents(documents, embeddings)\n",
        "\n",
        "# Adım 5: LLM Ayarları (Hugging Face Hub üzerinden Mistral-7B modeli)\n",
        "llm = HuggingFaceEndpoint(\n",
        "    repo_id=\"mistralai/Mistral-7B-v0.1\",\n",
        "    huggingfacehub_api_token=api_token,\n",
        "    temperature=0.7,\n",
        "    model_kwargs={\"max_length\": 256}\n",
        ")\n",
        "\n",
        "# Adım 6: BM25Retriever ile Alıcı (Retriever) Oluşturma\n",
        "retriever = BM25Retriever.from_documents(documents)\n",
        "\n",
        "# Özel prompt template'ini oluştur\n",
        "custom_prompt = PromptTemplate.from_template(\n",
        "    \"Aşağıdaki talimatları takip ederek soruyu yanıtla:\\n\\n\"\n",
        "    \"{instructions}\\n\\n\"\n",
        "    \"Soru: {question}\\n\"\n",
        "    \"Bağlam: {context}\\n\\n\"\n",
        "    \"Yanıt:\"\n",
        ")\n",
        "\n",
        "# Adım 7: Retrieval-Augmented Generation (RAG) QA Zinciri Oluşturma\n",
        "rag_chain = (\n",
        "    {\n",
        "        \"context\": retriever,\n",
        "        \"question\": RunnablePassthrough(),\n",
        "        \"instructions\": lambda _: ASSISTANT_INSTRUCTIONS\n",
        "    }\n",
        "    | custom_prompt\n",
        "    | llm\n",
        "    | StrOutputParser()\n",
        ")"
      ]
    },
    {
      "cell_type": "code",
      "source": [
        "def ask_question(query):\n",
        "    try:\n",
        "        result = rag_chain.invoke(query)\n",
        "        return result\n",
        "    except Exception as e:\n",
        "        return f\"Bir hata oluştu: {str(e)}\"\n",
        "\n",
        "if __name__ == \"__main__\":\n",
        "    query = \"Yönetmelikler/Yönergeler'e nasıl ulaşabilirim?\"\n",
        "    answer = ask_question(query)\n",
        "    print(answer)"
      ],
      "metadata": {
        "id": "CUNChF0YgI9c"
      },
      "execution_count": null,
      "outputs": []
    }
  ]
}